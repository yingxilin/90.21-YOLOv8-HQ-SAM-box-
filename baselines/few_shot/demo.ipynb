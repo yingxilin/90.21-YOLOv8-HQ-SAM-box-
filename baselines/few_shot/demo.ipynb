{
 "cells": [
  {
   "cell_type": "markdown",
   "id": "2c89d328ac3d38a3",
   "metadata": {},
   "source": [
    "# Few-shot classification\n",
    "This notebook demonstrates how to use the few-shot classification baselines.\n",
    "\n",
    "There are two baselines:\n",
    "1. Centroid-based classifier\n",
    "2. Nearest neighbour classifier\n",
    "\n",
    "The centroid-based classifier computes the class prototype by averaging the features of the support set. The class prototype is then used to classify the query set.\n",
    "\n",
    "The nearest neighbour classifier classifies the query set by finding the nearest neighbour in the support set.\n",
    "\n",
    "The notebook consists of the following steps:\n",
    "1. Precompute features\n",
    "2. Evaluate the baselines\n",
    "\n",
    "The few-shot baselines require pre-extracted features. The features can be extracted using the feature extraction script."
   ]
  },
  {
   "cell_type": "markdown",
   "id": "f612cf779c57b54f",
   "metadata": {},
   "source": []
  },
  {
   "cell_type": "code",
   "execution_count": 3,
   "id": "9695579a20553137",
   "metadata": {},
   "outputs": [],
   "source": [
    "# Add the parent directory to Python path\n",
    "import os\n",
    "import sys\n",
    "# Get the directory of the notebook\n",
    "notebook_dir = os.path.dirname(os.path.abspath(\"__file__\"))\n",
    "# Move one level up\n",
    "root_dir = os.path.abspath(os.path.join(notebook_dir, \"../../..\"))\n",
    "# Add to sys.path\n",
    "sys.path.insert(0, root_dir)\n",
    "\n",
    "\n",
    "from scripts.baselines.few_shot.feature_generation import generate_embeddings\n",
    "\n",
    "# ['clip', 'dinov2', 'bioclip']\n",
    "model_name = 'bioclip'\n",
    "# ['centroid', 'nn']\n",
    "classifier_name = 'centroid'\n",
    "split = 'val'\n",
    "\n",
    "# General settings\n",
    "data_path = ''\n",
    "feature_path = ''\n",
    "path_out = \"out\""
   ]
  },
  {
   "cell_type": "markdown",
   "id": "5174ba233f436b9c",
   "metadata": {},
   "source": [
    "## 1. Precompute features"
   ]
  },
  {
   "cell_type": "code",
   "execution_count": 4,
   "id": "f9bba787f237bbbd",
   "metadata": {},
   "outputs": [
    {
     "name": "stdout",
     "output_type": "stream",
     "text": [
      "Skipping /mnt/datagrid/personal/janoukl1/out/FungiTastic_public/features_old/bioclip/224x224_train.h5 because it already exists\n",
      "Skipping /mnt/datagrid/personal/janoukl1/out/FungiTastic_public/features_old/bioclip/224x224_val.h5 because it already exists\n"
     ]
    }
   ],
   "source": [
    "# precompute features for the fungi dataset\n",
    "generate_embeddings(data_path=data_path, model_name=model_name, data_split='train', feature_path=feature_path)\n",
    "generate_embeddings(data_path=data_path, model_name=model_name, data_split='val', feature_path=feature_path) # not needed\n",
    "# generate_embeddings(data_path=data_path, model_name=model_name, data_split='test', feature_path=feature_path)"
   ]
  },
  {
   "cell_type": "markdown",
   "id": "26331a4113c79bc1",
   "metadata": {},
   "source": [
    "## 2. Load features and evaluate the baselines"
   ]
  },
  {
   "cell_type": "code",
   "execution_count": 5,
   "id": "9859c60fdf6e1884",
   "metadata": {},
   "outputs": [
    {
     "name": "stdout",
     "output_type": "stream",
     "text": [
      "Evaluating eval_bioclip_val_centroid\n"
     ]
    },
    {
     "name": "stderr",
     "output_type": "stream",
     "text": [
      "9it [00:08,  1.06it/s]\n"
     ]
    },
    {
     "name": "stdout",
     "output_type": "stream",
     "text": [
      "{'Accuracy': 0.15929978118161925, 'Recall@3': 0.2485776805251641, 'F1': 0.04096092101065624}\n"
     ]
    }
   ],
   "source": [
    "from scripts.baselines.few_shot.eval import test_fungi\n",
    "\n",
    "# test_fungi(path_out, data_path, feature_path, feature_model, classifier_name, split, debug=False)\n",
    "test_fungi(path_out=path_out, data_path=data_path, feature_path=feature_path, feature_model=model_name, classifier_name=classifier_name, split=split, debug=False)"
   ]
  },
  {
   "cell_type": "code",
   "execution_count": null,
   "id": "7266d20e40a026da",
   "metadata": {},
   "outputs": [],
   "source": []
  }
 ],
 "metadata": {
  "kernelspec": {
   "display_name": "fungi",
   "language": "python",
   "name": "python3"
  },
  "language_info": {
   "codemirror_mode": {
    "name": "ipython",
    "version": 3
   },
   "file_extension": ".py",
   "mimetype": "text/x-python",
   "name": "python",
   "nbconvert_exporter": "python",
   "pygments_lexer": "ipython3",
   "version": "3.12.4"
  }
 },
 "nbformat": 4,
 "nbformat_minor": 5
}
